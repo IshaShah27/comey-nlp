{
  "nbformat": 4,
  "nbformat_minor": 0,
  "metadata": {
    "colab": {
      "name": "NLP Test 2 - Comey hearing.ipynb",
      "provenance": [],
      "collapsed_sections": [],
      "toc_visible": true,
      "include_colab_link": true
    },
    "kernelspec": {
      "name": "python3",
      "display_name": "Python 3"
    }
  },
  "cells": [
    {
      "cell_type": "markdown",
      "metadata": {
        "id": "view-in-github",
        "colab_type": "text"
      },
      "source": [
        "<a href=\"https://colab.research.google.com/github/IshaShah27/comey-nlp/blob/master/NLP_Test_2_Comey_hearing.ipynb\" target=\"_parent\"><img src=\"https://colab.research.google.com/assets/colab-badge.svg\" alt=\"Open In Colab\"/></a>"
      ]
    },
    {
      "cell_type": "markdown",
      "metadata": {
        "id": "4HIHOCeH3bTR",
        "colab_type": "text"
      },
      "source": [
        "#### Summary statistics"
      ]
    },
    {
      "cell_type": "markdown",
      "metadata": {
        "id": "t8UKZETg3f6V",
        "colab_type": "text"
      },
      "source": [
        "##### Word occurrence (word cloud)\n",
        "##### Word occurrence by Comey vs Republican vs Democrat\n",
        "##### Average length of statement Comey v Republican v Democrat"
      ]
    },
    {
      "cell_type": "code",
      "metadata": {
        "id": "9UYTr2P26VOg",
        "colab_type": "code",
        "colab": {
          "base_uri": "https://localhost:8080/",
          "height": 51
        },
        "outputId": "cd0e1df3-0cf4-423a-9cbc-4131cc47b87a"
      },
      "source": [
        "# Import packages\n",
        "import pandas as pd\n",
        "import nltk\n",
        "nltk.download('stopwords')\n",
        "from nltk.corpus import stopwords\n",
        "from nltk.tokenize import word_tokenize\n",
        "import matplotlib.pyplot as plt\n",
        "from IPython.core.interactiveshell import InteractiveShell\n",
        "\n",
        "# Make sure notebook prints all output a cell\n",
        "InteractiveShell.ast_node_interactivity = \"all\"\n",
        "\n",
        "# Make sure notebook prints plots\n",
        "%matplotlib inline"
      ],
      "execution_count": 1,
      "outputs": [
        {
          "output_type": "stream",
          "text": [
            "[nltk_data] Downloading package stopwords to /root/nltk_data...\n",
            "[nltk_data]   Unzipping corpora/stopwords.zip.\n"
          ],
          "name": "stdout"
        }
      ]
    },
    {
      "cell_type": "code",
      "metadata": {
        "id": "uo-Hv1Cf_Cgb",
        "colab_type": "code",
        "outputId": "7dec0a52-cb97-4007-820f-8f1a2a1b5daa",
        "colab": {
          "base_uri": "https://localhost:8080/",
          "height": 204
        }
      },
      "source": [
        "# Import testimony csv\n",
        "url = \"https://raw.githubusercontent.com/IshaShah27/comey-nlp/master/comeytestimony/qa.csv\"\n",
        "\n",
        "test = pd.read_csv(url)\n",
        "test.head()"
      ],
      "execution_count": 2,
      "outputs": [
        {
          "output_type": "execute_result",
          "data": {
            "text/html": [
              "<div>\n",
              "<style scoped>\n",
              "    .dataframe tbody tr th:only-of-type {\n",
              "        vertical-align: middle;\n",
              "    }\n",
              "\n",
              "    .dataframe tbody tr th {\n",
              "        vertical-align: top;\n",
              "    }\n",
              "\n",
              "    .dataframe thead th {\n",
              "        text-align: right;\n",
              "    }\n",
              "</style>\n",
              "<table border=\"1\" class=\"dataframe\">\n",
              "  <thead>\n",
              "    <tr style=\"text-align: right;\">\n",
              "      <th></th>\n",
              "      <th>Senator</th>\n",
              "      <th>Party Affiliation</th>\n",
              "      <th>Full Question</th>\n",
              "      <th>Comey</th>\n",
              "      <th>Comey Response</th>\n",
              "    </tr>\n",
              "  </thead>\n",
              "  <tbody>\n",
              "    <tr>\n",
              "      <th>0</th>\n",
              "      <td>BURR</td>\n",
              "      <td>Republican</td>\n",
              "      <td>Do you have any doubt that Russia attempted to...</td>\n",
              "      <td>COMEY</td>\n",
              "      <td>None.</td>\n",
              "    </tr>\n",
              "    <tr>\n",
              "      <th>1</th>\n",
              "      <td>BURR</td>\n",
              "      <td>Republican</td>\n",
              "      <td>Do you have any doubt that the Russian governm...</td>\n",
              "      <td>COMEY</td>\n",
              "      <td>No, no doubt.</td>\n",
              "    </tr>\n",
              "    <tr>\n",
              "      <th>2</th>\n",
              "      <td>BURR</td>\n",
              "      <td>Republican</td>\n",
              "      <td>Do you have any doubt the Russian government w...</td>\n",
              "      <td>COMEY</td>\n",
              "      <td>No.</td>\n",
              "    </tr>\n",
              "    <tr>\n",
              "      <th>3</th>\n",
              "      <td>BURR</td>\n",
              "      <td>Republican</td>\n",
              "      <td>Are you confident that no votes cast in the 20...</td>\n",
              "      <td>COMEY</td>\n",
              "      <td>I'm confident. When I left as director I had s...</td>\n",
              "    </tr>\n",
              "    <tr>\n",
              "      <th>4</th>\n",
              "      <td>BURR</td>\n",
              "      <td>Republican</td>\n",
              "      <td>Director Comey, did the president at any time ...</td>\n",
              "      <td>COMEY</td>\n",
              "      <td>Not to my understanding, no.</td>\n",
              "    </tr>\n",
              "  </tbody>\n",
              "</table>\n",
              "</div>"
            ],
            "text/plain": [
              "  Senator  ...                                     Comey Response\n",
              "0    BURR  ...                                              None.\n",
              "1    BURR  ...                                      No, no doubt.\n",
              "2    BURR  ...                                                No.\n",
              "3    BURR  ...  I'm confident. When I left as director I had s...\n",
              "4    BURR  ...                       Not to my understanding, no.\n",
              "\n",
              "[5 rows x 5 columns]"
            ]
          },
          "metadata": {
            "tags": []
          },
          "execution_count": 2
        }
      ]
    },
    {
      "cell_type": "code",
      "metadata": {
        "id": "R31UEN3SYCVD",
        "colab_type": "code",
        "colab": {
          "base_uri": "https://localhost:8080/",
          "height": 68
        },
        "outputId": "1ac825a8-ef2b-4fb7-93c6-e070db582fc8"
      },
      "source": [
        "import nltk\n",
        "nltk.download('punkt')"
      ],
      "execution_count": 18,
      "outputs": [
        {
          "output_type": "stream",
          "text": [
            "[nltk_data] Downloading package punkt to /root/nltk_data...\n",
            "[nltk_data]   Unzipping tokenizers/punkt.zip.\n"
          ],
          "name": "stdout"
        },
        {
          "output_type": "execute_result",
          "data": {
            "text/plain": [
              "True"
            ]
          },
          "metadata": {
            "tags": []
          },
          "execution_count": 18
        }
      ]
    },
    {
      "cell_type": "code",
      "metadata": {
        "id": "ZOnULfJLZrC1",
        "colab_type": "code",
        "colab": {}
      },
      "source": [
        "import re"
      ],
      "execution_count": 0,
      "outputs": []
    },
    {
      "cell_type": "code",
      "metadata": {
        "id": "p7wovWlT-pHN",
        "colab_type": "code",
        "colab": {}
      },
      "source": [
        "# Reshape dataset - here, we're not interested in the question-answer relationship\n",
        "comey = test[['Comey', 'Comey Response']].rename(columns = {'Comey':'name',\n",
        "                                                  'Comey Response':'text'})\n",
        "comey['group'] = \"Comey\"\n",
        "\n",
        "# comey.head()\n",
        "qalong = test[['Senator', 'Party Affiliation', 'Full Question']].rename(columns = {'Senator':'name',\n",
        "                                                                       'Party Affiliation': 'group',\n",
        "                                                                       'Full Question':'text'})\n",
        "qalong = pd.concat([comey, qalong], sort=False).reset_index()\n",
        "\n",
        "# Tokenize, remove stopwords, add bigrams\n",
        "stop_rem = set(stopwords.words('english'))\n",
        "qalong['word_token'] = qalong['text'].apply(lambda x: re.sub('[^A-z ]+', '', x)).apply(word_tokenize)\n",
        "qalong['stop_rem'] = qalong['word_token'].apply(lambda x: [word for word in x if word not in stop_rem])\n",
        "\n",
        "# Ignore bigrams for now\n",
        "# qalong['bigrams'] = qalong['text'].apply(lambda x: re.sub('[^A-z ]+', '', x)).apply(lambda x: [x[i:i+2] for i in range(len(x)-1)])\n",
        "qalong.head()"
      ],
      "execution_count": 0,
      "outputs": []
    },
    {
      "cell_type": "code",
      "metadata": {
        "id": "abTfMb_SiiWF",
        "colab_type": "code",
        "colab": {}
      },
      "source": [
        "# Get word frequencies\n",
        "\n",
        "# overall\n",
        "\n",
        "# by groups"
      ],
      "execution_count": 0,
      "outputs": []
    },
    {
      "cell_type": "markdown",
      "metadata": {
        "id": "pNq9kYAm38u4",
        "colab_type": "text"
      },
      "source": [
        "#### Sentiment analysis\n"
      ]
    },
    {
      "cell_type": "markdown",
      "metadata": {
        "id": "ZlR4l0jo4CKh",
        "colab_type": "text"
      },
      "source": [
        "##### Sentiment score overall (big 6 emotions + VAD)\n",
        "##### Sentiment score by Comey, Repub, Dem compared to overall\n"
      ]
    },
    {
      "cell_type": "code",
      "metadata": {
        "id": "yoiyZKr2uRdd",
        "colab_type": "code",
        "colab": {
          "base_uri": "https://localhost:8080/",
          "height": 276
        },
        "outputId": "21e259fc-e5d7-4206-9ffb-f6c686c63bff"
      },
      "source": [
        "# Import afinn\n",
        "!pip install afinn\n",
        "from afinn import Afinn\n",
        "afinn = Afinn(language = 'en')"
      ],
      "execution_count": 47,
      "outputs": [
        {
          "output_type": "stream",
          "text": [
            "Collecting afinn\n",
            "\u001b[?25l  Downloading https://files.pythonhosted.org/packages/86/e5/ffbb7ee3cca21ac6d310ac01944fb163c20030b45bda25421d725d8a859a/afinn-0.1.tar.gz (52kB)\n",
            "\r\u001b[K     |██████▎                         | 10kB 14.6MB/s eta 0:00:01\r\u001b[K     |████████████▌                   | 20kB 3.2MB/s eta 0:00:01\r\u001b[K     |██████████████████▊             | 30kB 4.6MB/s eta 0:00:01\r\u001b[K     |█████████████████████████       | 40kB 3.0MB/s eta 0:00:01\r\u001b[K     |███████████████████████████████▏| 51kB 3.7MB/s eta 0:00:01\r\u001b[K     |████████████████████████████████| 61kB 2.8MB/s \n",
            "\u001b[?25hBuilding wheels for collected packages: afinn\n",
            "  Building wheel for afinn (setup.py) ... \u001b[?25l\u001b[?25hdone\n",
            "  Created wheel for afinn: filename=afinn-0.1-cp36-none-any.whl size=53453 sha256=4f45a5200be8cf1745b5a38610df0cea932648bf94f0f8e7757608f259181454\n",
            "  Stored in directory: /root/.cache/pip/wheels/b5/1c/de/428301f3333ca509dcf20ff358690eb23a1388fbcbbde008b2\n",
            "Successfully built afinn\n",
            "Installing collected packages: afinn\n",
            "Successfully installed afinn-0.1\n"
          ],
          "name": "stdout"
        }
      ]
    },
    {
      "cell_type": "code",
      "metadata": {
        "id": "pUcnjhtuukCv",
        "colab_type": "code",
        "colab": {
          "base_uri": "https://localhost:8080/",
          "height": 238
        },
        "outputId": "793a3cb8-6974-44f6-e266-09f8eb093db4"
      },
      "source": [
        "# Calculate afinn score and find average over text (to control for length)\n",
        "df_sentiment = qalong\n",
        "df_sentiment['afinn_score'] = qalong['text'].apply(afinn.score)\n",
        "df_sentiment['num_words'] = df_sentiment['text'].apply(lambda x: len(x.split()))\n",
        "df_sentiment['afinn_avg'] = df_sentiment['afinn_score']/df_sentiment['num_words']\n",
        "\n",
        "df_sentiment.head()"
      ],
      "execution_count": 52,
      "outputs": [
        {
          "output_type": "execute_result",
          "data": {
            "text/html": [
              "<div>\n",
              "<style scoped>\n",
              "    .dataframe tbody tr th:only-of-type {\n",
              "        vertical-align: middle;\n",
              "    }\n",
              "\n",
              "    .dataframe tbody tr th {\n",
              "        vertical-align: top;\n",
              "    }\n",
              "\n",
              "    .dataframe thead th {\n",
              "        text-align: right;\n",
              "    }\n",
              "</style>\n",
              "<table border=\"1\" class=\"dataframe\">\n",
              "  <thead>\n",
              "    <tr style=\"text-align: right;\">\n",
              "      <th></th>\n",
              "      <th>index</th>\n",
              "      <th>name</th>\n",
              "      <th>text</th>\n",
              "      <th>group</th>\n",
              "      <th>word_token</th>\n",
              "      <th>stop_rem</th>\n",
              "      <th>afinn_score</th>\n",
              "      <th>num_words</th>\n",
              "      <th>afinn_avg</th>\n",
              "    </tr>\n",
              "  </thead>\n",
              "  <tbody>\n",
              "    <tr>\n",
              "      <th>0</th>\n",
              "      <td>0</td>\n",
              "      <td>COMEY</td>\n",
              "      <td>None.</td>\n",
              "      <td>Comey</td>\n",
              "      <td>[None]</td>\n",
              "      <td>[None]</td>\n",
              "      <td>0.0</td>\n",
              "      <td>1</td>\n",
              "      <td>0.000000</td>\n",
              "    </tr>\n",
              "    <tr>\n",
              "      <th>1</th>\n",
              "      <td>1</td>\n",
              "      <td>COMEY</td>\n",
              "      <td>No, no doubt.</td>\n",
              "      <td>Comey</td>\n",
              "      <td>[No, no, doubt]</td>\n",
              "      <td>[No, doubt]</td>\n",
              "      <td>-3.0</td>\n",
              "      <td>3</td>\n",
              "      <td>-1.000000</td>\n",
              "    </tr>\n",
              "    <tr>\n",
              "      <th>2</th>\n",
              "      <td>2</td>\n",
              "      <td>COMEY</td>\n",
              "      <td>No.</td>\n",
              "      <td>Comey</td>\n",
              "      <td>[No]</td>\n",
              "      <td>[No]</td>\n",
              "      <td>-1.0</td>\n",
              "      <td>1</td>\n",
              "      <td>-1.000000</td>\n",
              "    </tr>\n",
              "    <tr>\n",
              "      <th>3</th>\n",
              "      <td>3</td>\n",
              "      <td>COMEY</td>\n",
              "      <td>I'm confident. When I left as director I had s...</td>\n",
              "      <td>Comey</td>\n",
              "      <td>[Im, confident, When, I, left, as, director, I...</td>\n",
              "      <td>[Im, confident, When, I, left, director, I, se...</td>\n",
              "      <td>1.0</td>\n",
              "      <td>15</td>\n",
              "      <td>0.066667</td>\n",
              "    </tr>\n",
              "    <tr>\n",
              "      <th>4</th>\n",
              "      <td>4</td>\n",
              "      <td>COMEY</td>\n",
              "      <td>Not to my understanding, no.</td>\n",
              "      <td>Comey</td>\n",
              "      <td>[Not, to, my, understanding, no]</td>\n",
              "      <td>[Not, understanding]</td>\n",
              "      <td>-1.0</td>\n",
              "      <td>5</td>\n",
              "      <td>-0.200000</td>\n",
              "    </tr>\n",
              "  </tbody>\n",
              "</table>\n",
              "</div>"
            ],
            "text/plain": [
              "   index   name  ... num_words afinn_avg\n",
              "0      0  COMEY  ...         1  0.000000\n",
              "1      1  COMEY  ...         3 -1.000000\n",
              "2      2  COMEY  ...         1 -1.000000\n",
              "3      3  COMEY  ...        15  0.066667\n",
              "4      4  COMEY  ...         5 -0.200000\n",
              "\n",
              "[5 rows x 9 columns]"
            ]
          },
          "metadata": {
            "tags": []
          },
          "execution_count": 52
        }
      ]
    },
    {
      "cell_type": "code",
      "metadata": {
        "id": "bVMd-9Hzl9wi",
        "colab_type": "code",
        "colab": {}
      },
      "source": [
        "# Import vader\n",
        "!pip install vaderSentiment\n",
        "from vaderSentiment.vaderSentiment import SentimentIntensityAnalyzer"
      ],
      "execution_count": 0,
      "outputs": []
    },
    {
      "cell_type": "code",
      "metadata": {
        "id": "mg6Dvb9ql0PZ",
        "colab_type": "code",
        "colab": {}
      },
      "source": [
        "# Run vader\n",
        "def vaderize(df, textfield):\n",
        "    '''Compute the Vader polarity scores for a textfield.\n",
        "    Returns scores and original dataframe.'''\n",
        "\n",
        "    analyzer = SentimentIntensityAnalyzer()\n",
        "\n",
        "    # print('Estimating polarity scores for %d cases.' % len(df))\n",
        "    sentiment = df[textfield].apply(analyzer.polarity_scores)\n",
        "\n",
        "    # convert to dataframe\n",
        "    sdf = pd.DataFrame(sentiment.tolist()).add_prefix('vader_')\n",
        "\n",
        "    # merge dataframes\n",
        "    df_combined = pd.concat([df, sdf], axis=1)\n",
        "    return df_combined\n",
        "\n",
        "df_sentiment = vaderize(df_sentiment, 'text')\n",
        "# df_vaderized.head(10)\n",
        "df_sentiment.tail(10)"
      ],
      "execution_count": 0,
      "outputs": []
    },
    {
      "cell_type": "code",
      "metadata": {
        "id": "RpTlYwkDzBUP",
        "colab_type": "code",
        "colab": {}
      },
      "source": [
        "# Import NRC\n"
      ],
      "execution_count": 0,
      "outputs": []
    },
    {
      "cell_type": "code",
      "metadata": {
        "id": "4yZlDLoBmlzq",
        "colab_type": "code",
        "colab": {
          "base_uri": "https://localhost:8080/",
          "height": 893
        },
        "outputId": "36461197-0c66-48df-8086-619596c7b432"
      },
      "source": [
        "# check if differences by group\n",
        "sent_vals = [\"afinn_avg\",\"vader_neg\", \"vader_neu\", \"vader_pos\", \"vader_compound\"]\n",
        "\n",
        "sent_nameavg = df_sentiment.groupby(['name', 'group'])[sent_vals].mean()\n",
        "sent_groupavg = df_sentiment.groupby('group')[sent_vals].mean()\n",
        "\n",
        "sent_nameavg.head(20)\n",
        "sent_groupavg.head()"
      ],
      "execution_count": 54,
      "outputs": [
        {
          "output_type": "execute_result",
          "data": {
            "text/plain": [
              "Index(['index', 'name', 'text', 'group', 'word_token', 'stop_rem',\n",
              "       'afinn_score', 'num_words', 'afinn_avg', 'vader_neg', 'vader_neu',\n",
              "       'vader_pos', 'vader_compound'],\n",
              "      dtype='object')"
            ]
          },
          "metadata": {
            "tags": []
          },
          "execution_count": 54
        },
        {
          "output_type": "execute_result",
          "data": {
            "text/html": [
              "<div>\n",
              "<style scoped>\n",
              "    .dataframe tbody tr th:only-of-type {\n",
              "        vertical-align: middle;\n",
              "    }\n",
              "\n",
              "    .dataframe tbody tr th {\n",
              "        vertical-align: top;\n",
              "    }\n",
              "\n",
              "    .dataframe thead th {\n",
              "        text-align: right;\n",
              "    }\n",
              "</style>\n",
              "<table border=\"1\" class=\"dataframe\">\n",
              "  <thead>\n",
              "    <tr style=\"text-align: right;\">\n",
              "      <th></th>\n",
              "      <th></th>\n",
              "      <th>afinn_avg</th>\n",
              "      <th>vader_neg</th>\n",
              "      <th>vader_neu</th>\n",
              "      <th>vader_pos</th>\n",
              "      <th>vader_compound</th>\n",
              "    </tr>\n",
              "    <tr>\n",
              "      <th>name</th>\n",
              "      <th>group</th>\n",
              "      <th></th>\n",
              "      <th></th>\n",
              "      <th></th>\n",
              "      <th></th>\n",
              "      <th></th>\n",
              "    </tr>\n",
              "  </thead>\n",
              "  <tbody>\n",
              "    <tr>\n",
              "      <th>BLUNT</th>\n",
              "      <th>Republican</th>\n",
              "      <td>0.007636</td>\n",
              "      <td>0.046000</td>\n",
              "      <td>0.888211</td>\n",
              "      <td>0.065842</td>\n",
              "      <td>0.076574</td>\n",
              "    </tr>\n",
              "    <tr>\n",
              "      <th>BURR</th>\n",
              "      <th>Republican</th>\n",
              "      <td>-0.025746</td>\n",
              "      <td>0.079429</td>\n",
              "      <td>0.884179</td>\n",
              "      <td>0.036357</td>\n",
              "      <td>-0.080821</td>\n",
              "    </tr>\n",
              "    <tr>\n",
              "      <th>COLLINS</th>\n",
              "      <th>Republican</th>\n",
              "      <td>0.009914</td>\n",
              "      <td>0.015462</td>\n",
              "      <td>0.943000</td>\n",
              "      <td>0.041538</td>\n",
              "      <td>0.123085</td>\n",
              "    </tr>\n",
              "    <tr>\n",
              "      <th>COMEY</th>\n",
              "      <th>Comey</th>\n",
              "      <td>0.034179</td>\n",
              "      <td>0.116000</td>\n",
              "      <td>0.708101</td>\n",
              "      <td>0.175903</td>\n",
              "      <td>0.127569</td>\n",
              "    </tr>\n",
              "    <tr>\n",
              "      <th>CORNYN</th>\n",
              "      <th>Republican</th>\n",
              "      <td>0.049508</td>\n",
              "      <td>0.039600</td>\n",
              "      <td>0.806933</td>\n",
              "      <td>0.153600</td>\n",
              "      <td>0.412653</td>\n",
              "    </tr>\n",
              "    <tr>\n",
              "      <th>COTTON</th>\n",
              "      <th>Republican</th>\n",
              "      <td>0.003337</td>\n",
              "      <td>0.025188</td>\n",
              "      <td>0.917625</td>\n",
              "      <td>0.057188</td>\n",
              "      <td>0.097394</td>\n",
              "    </tr>\n",
              "    <tr>\n",
              "      <th>FEINSTEIN</th>\n",
              "      <th>Democrat</th>\n",
              "      <td>0.123322</td>\n",
              "      <td>0.034000</td>\n",
              "      <td>0.778636</td>\n",
              "      <td>0.187364</td>\n",
              "      <td>0.277973</td>\n",
              "    </tr>\n",
              "    <tr>\n",
              "      <th>HARRIS</th>\n",
              "      <th>Democrat</th>\n",
              "      <td>0.003522</td>\n",
              "      <td>0.017625</td>\n",
              "      <td>0.950708</td>\n",
              "      <td>0.031625</td>\n",
              "      <td>0.052987</td>\n",
              "    </tr>\n",
              "    <tr>\n",
              "      <th>HEINRICH</th>\n",
              "      <th>Democrat</th>\n",
              "      <td>-0.025601</td>\n",
              "      <td>0.063211</td>\n",
              "      <td>0.894421</td>\n",
              "      <td>0.042368</td>\n",
              "      <td>-0.017905</td>\n",
              "    </tr>\n",
              "    <tr>\n",
              "      <th>KING</th>\n",
              "      <th>Independent</th>\n",
              "      <td>0.037922</td>\n",
              "      <td>0.022000</td>\n",
              "      <td>0.882850</td>\n",
              "      <td>0.095150</td>\n",
              "      <td>0.186295</td>\n",
              "    </tr>\n",
              "    <tr>\n",
              "      <th>LANKFORD</th>\n",
              "      <th>Republican</th>\n",
              "      <td>0.040930</td>\n",
              "      <td>0.031727</td>\n",
              "      <td>0.882136</td>\n",
              "      <td>0.086182</td>\n",
              "      <td>0.118650</td>\n",
              "    </tr>\n",
              "    <tr>\n",
              "      <th>MANCHIN</th>\n",
              "      <th>Democrat</th>\n",
              "      <td>0.024748</td>\n",
              "      <td>0.032111</td>\n",
              "      <td>0.898778</td>\n",
              "      <td>0.069167</td>\n",
              "      <td>0.121278</td>\n",
              "    </tr>\n",
              "    <tr>\n",
              "      <th>McCAIN</th>\n",
              "      <th>Republican</th>\n",
              "      <td>-0.008079</td>\n",
              "      <td>0.031000</td>\n",
              "      <td>0.915533</td>\n",
              "      <td>0.053600</td>\n",
              "      <td>0.105340</td>\n",
              "    </tr>\n",
              "    <tr>\n",
              "      <th>REED</th>\n",
              "      <th>Democrat</th>\n",
              "      <td>-0.003347</td>\n",
              "      <td>0.092222</td>\n",
              "      <td>0.817667</td>\n",
              "      <td>0.090111</td>\n",
              "      <td>0.013244</td>\n",
              "    </tr>\n",
              "    <tr>\n",
              "      <th>RISCH</th>\n",
              "      <th>Republican</th>\n",
              "      <td>0.072643</td>\n",
              "      <td>0.037882</td>\n",
              "      <td>0.822294</td>\n",
              "      <td>0.139941</td>\n",
              "      <td>0.238606</td>\n",
              "    </tr>\n",
              "    <tr>\n",
              "      <th>RUBIO</th>\n",
              "      <th>Republican</th>\n",
              "      <td>0.042221</td>\n",
              "      <td>0.014739</td>\n",
              "      <td>0.900870</td>\n",
              "      <td>0.084348</td>\n",
              "      <td>0.321561</td>\n",
              "    </tr>\n",
              "    <tr>\n",
              "      <th>WARNER</th>\n",
              "      <th>Democrat</th>\n",
              "      <td>0.022782</td>\n",
              "      <td>0.021176</td>\n",
              "      <td>0.907765</td>\n",
              "      <td>0.071059</td>\n",
              "      <td>0.419341</td>\n",
              "    </tr>\n",
              "    <tr>\n",
              "      <th>WYDEN</th>\n",
              "      <th>Democrat</th>\n",
              "      <td>-0.010976</td>\n",
              "      <td>0.030333</td>\n",
              "      <td>0.911000</td>\n",
              "      <td>0.058667</td>\n",
              "      <td>0.143733</td>\n",
              "    </tr>\n",
              "  </tbody>\n",
              "</table>\n",
              "</div>"
            ],
            "text/plain": [
              "                       afinn_avg  vader_neg  ...  vader_pos  vader_compound\n",
              "name      group                              ...                           \n",
              "BLUNT     Republican    0.007636   0.046000  ...   0.065842        0.076574\n",
              "BURR      Republican   -0.025746   0.079429  ...   0.036357       -0.080821\n",
              "COLLINS   Republican    0.009914   0.015462  ...   0.041538        0.123085\n",
              "COMEY     Comey         0.034179   0.116000  ...   0.175903        0.127569\n",
              "CORNYN    Republican    0.049508   0.039600  ...   0.153600        0.412653\n",
              "COTTON    Republican    0.003337   0.025188  ...   0.057188        0.097394\n",
              "FEINSTEIN Democrat      0.123322   0.034000  ...   0.187364        0.277973\n",
              "HARRIS    Democrat      0.003522   0.017625  ...   0.031625        0.052987\n",
              "HEINRICH  Democrat     -0.025601   0.063211  ...   0.042368       -0.017905\n",
              "KING      Independent   0.037922   0.022000  ...   0.095150        0.186295\n",
              "LANKFORD  Republican    0.040930   0.031727  ...   0.086182        0.118650\n",
              "MANCHIN   Democrat      0.024748   0.032111  ...   0.069167        0.121278\n",
              "McCAIN    Republican   -0.008079   0.031000  ...   0.053600        0.105340\n",
              "REED      Democrat     -0.003347   0.092222  ...   0.090111        0.013244\n",
              "RISCH     Republican    0.072643   0.037882  ...   0.139941        0.238606\n",
              "RUBIO     Republican    0.042221   0.014739  ...   0.084348        0.321561\n",
              "WARNER    Democrat      0.022782   0.021176  ...   0.071059        0.419341\n",
              "WYDEN     Democrat     -0.010976   0.030333  ...   0.058667        0.143733\n",
              "\n",
              "[18 rows x 5 columns]"
            ]
          },
          "metadata": {
            "tags": []
          },
          "execution_count": 54
        },
        {
          "output_type": "execute_result",
          "data": {
            "text/html": [
              "<div>\n",
              "<style scoped>\n",
              "    .dataframe tbody tr th:only-of-type {\n",
              "        vertical-align: middle;\n",
              "    }\n",
              "\n",
              "    .dataframe tbody tr th {\n",
              "        vertical-align: top;\n",
              "    }\n",
              "\n",
              "    .dataframe thead th {\n",
              "        text-align: right;\n",
              "    }\n",
              "</style>\n",
              "<table border=\"1\" class=\"dataframe\">\n",
              "  <thead>\n",
              "    <tr style=\"text-align: right;\">\n",
              "      <th></th>\n",
              "      <th>afinn_avg</th>\n",
              "      <th>vader_neg</th>\n",
              "      <th>vader_neu</th>\n",
              "      <th>vader_pos</th>\n",
              "      <th>vader_compound</th>\n",
              "    </tr>\n",
              "    <tr>\n",
              "      <th>group</th>\n",
              "      <th></th>\n",
              "      <th></th>\n",
              "      <th></th>\n",
              "      <th></th>\n",
              "      <th></th>\n",
              "    </tr>\n",
              "  </thead>\n",
              "  <tbody>\n",
              "    <tr>\n",
              "      <th>Comey</th>\n",
              "      <td>0.034179</td>\n",
              "      <td>0.116000</td>\n",
              "      <td>0.708101</td>\n",
              "      <td>0.175903</td>\n",
              "      <td>0.127569</td>\n",
              "    </tr>\n",
              "    <tr>\n",
              "      <th>Democrat</th>\n",
              "      <td>0.014778</td>\n",
              "      <td>0.037545</td>\n",
              "      <td>0.893427</td>\n",
              "      <td>0.069027</td>\n",
              "      <td>0.137682</td>\n",
              "    </tr>\n",
              "    <tr>\n",
              "      <th>Independent</th>\n",
              "      <td>0.037922</td>\n",
              "      <td>0.022000</td>\n",
              "      <td>0.882850</td>\n",
              "      <td>0.095150</td>\n",
              "      <td>0.186295</td>\n",
              "    </tr>\n",
              "    <tr>\n",
              "      <th>Republican</th>\n",
              "      <td>0.019847</td>\n",
              "      <td>0.038345</td>\n",
              "      <td>0.884030</td>\n",
              "      <td>0.077661</td>\n",
              "      <td>0.143945</td>\n",
              "    </tr>\n",
              "  </tbody>\n",
              "</table>\n",
              "</div>"
            ],
            "text/plain": [
              "             afinn_avg  vader_neg  vader_neu  vader_pos  vader_compound\n",
              "group                                                                  \n",
              "Comey         0.034179   0.116000   0.708101   0.175903        0.127569\n",
              "Democrat      0.014778   0.037545   0.893427   0.069027        0.137682\n",
              "Independent   0.037922   0.022000   0.882850   0.095150        0.186295\n",
              "Republican    0.019847   0.038345   0.884030   0.077661        0.143945"
            ]
          },
          "metadata": {
            "tags": []
          },
          "execution_count": 54
        }
      ]
    },
    {
      "cell_type": "code",
      "metadata": {
        "id": "rhGNDpnUnBWW",
        "colab_type": "code",
        "colab": {}
      },
      "source": [
        ""
      ],
      "execution_count": 0,
      "outputs": []
    },
    {
      "cell_type": "markdown",
      "metadata": {
        "id": "KkF_Od6Y5pNz",
        "colab_type": "text"
      },
      "source": [
        "### Classification (supervised)"
      ]
    },
    {
      "cell_type": "markdown",
      "metadata": {
        "id": "t6B4f_OT5tkb",
        "colab_type": "text"
      },
      "source": [
        "##### Repub vs democrat - use different models\n",
        "##### Verification stats (confusion matrix from best one) and interpretation "
      ]
    },
    {
      "cell_type": "markdown",
      "metadata": {
        "id": "BBkCkCSi58ya",
        "colab_type": "text"
      },
      "source": [
        "#### Clustering / topic modeling (unsupervised)"
      ]
    },
    {
      "cell_type": "markdown",
      "metadata": {
        "id": "mJgb5GhY6Bli",
        "colab_type": "text"
      },
      "source": [
        "##### Visualization\n",
        "##### Interpretation"
      ]
    },
    {
      "cell_type": "markdown",
      "metadata": {
        "id": "JVCygv5r6Hpx",
        "colab_type": "text"
      },
      "source": [
        "#### Findings / overall conclusions"
      ]
    },
    {
      "cell_type": "code",
      "metadata": {
        "id": "hjCQ3hSt3PvY",
        "colab_type": "code",
        "colab": {}
      },
      "source": [
        "#### Task 1 - Summary statistics\n"
      ],
      "execution_count": 0,
      "outputs": []
    }
  ]
}